{
 "cells": [
  {
   "cell_type": "code",
   "execution_count": 16,
   "metadata": {},
   "outputs": [
    {
     "name": "stdout",
     "output_type": "stream",
     "text": [
      "observation:  [ 0.04382879 -0.0219812  -0.03863219  0.02390166] info:  {}\n",
      "observation:  [-0.02367331 -0.00784471  0.02399901 -0.02292963] info:  {}\n",
      "observation:  [-0.01594055  0.04741504 -0.02129915  0.01384403] info:  {}\n",
      "observation:  [ 0.03026681 -0.01026693  0.01057328 -0.04684053] info:  {}\n",
      "observation:  [-0.00801586  0.00863779 -0.04543291 -0.02973347] info:  {}\n",
      "observation:  [ 0.02271097 -0.03039725  0.03220001  0.02652046] info:  {}\n",
      "observation:  [ 0.04841867 -0.03005524 -0.01851249  0.03317637] info:  {}\n",
      "observation:  [ 0.03872003 -0.00263377 -0.00377826  0.0445569 ] info:  {}\n",
      "observation:  [-0.02873045 -0.03238628  0.046948    0.00694694] info:  {}\n",
      "observation:  [-0.00883793 -0.04627091 -0.04536693  0.00160558] info:  {}\n",
      "observation:  [-0.03621641  0.03399686 -0.04924811 -0.02497874] info:  {}\n",
      "observation:  [-0.01742474  0.03437896  0.04640546 -0.04479033] info:  {}\n",
      "observation:  [ 0.0055555  -0.02081319 -0.01455888  0.04778575] info:  {}\n",
      "observation:  [ 0.04297112  0.03095314 -0.04246367 -0.02380171] info:  {}\n",
      "observation:  [-0.04618704  0.00291291 -0.00930426 -0.00983463] info:  {}\n",
      "observation:  [-0.00185705 -0.04738261  0.03723464 -0.01663263] info:  {}\n",
      "observation:  [-0.00250008  0.00523187  0.03541321  0.04029921] info:  {}\n",
      "observation:  [ 0.0497976  -0.04383205  0.01624487  0.03661701] info:  {}\n",
      "observation:  [-0.04153065  0.03426262 -0.01360405 -0.01216139] info:  {}\n",
      "observation:  [0.01206016 0.00051934 0.03109477 0.02000502] info:  {}\n",
      "observation:  [ 0.01841422 -0.03064713 -0.03331803  0.0012582 ] info:  {}\n",
      "observation:  [ 0.03274427 -0.01597284 -0.04023284 -0.00278203] info:  {}\n",
      "observation:  [-0.04293597 -0.02351676 -0.04804412 -0.02907427] info:  {}\n",
      "observation:  [-0.00528321 -0.01012018  0.03742079  0.02456271] info:  {}\n",
      "observation:  [-0.02105893 -0.03374616  0.02255982 -0.01476132] info:  {}\n",
      "observation:  [-0.04755886 -0.03914523  0.00627872 -0.00300617] info:  {}\n",
      "observation:  [ 0.04604565 -0.03933163 -0.00083854  0.02298426] info:  {}\n",
      "observation:  [ 0.02645196 -0.00076896 -0.01906047 -0.00245477] info:  {}\n",
      "observation:  [-0.04236051  0.02233762 -0.03956971  0.01672712] info:  {}\n",
      "observation:  [ 0.01115034 -0.02719138  0.02080308 -0.0318353 ] info:  {}\n",
      "observation:  [0.01016115 0.01572282 0.02421586 0.02246817] info:  {}\n",
      "observation:  [ 0.02439838  0.0327968  -0.04229956 -0.02825871] info:  {}\n",
      "observation:  [ 0.00964156 -0.02118511 -0.03995165 -0.00361355] info:  {}\n",
      "observation:  [-0.00990031 -0.02763497 -0.04150326  0.02558043] info:  {}\n",
      "observation:  [ 0.04043276  0.03843748  0.03874732 -0.0370528 ] info:  {}\n",
      "observation:  [-0.03209254 -0.00281095  0.01729584 -0.02460006] info:  {}\n",
      "observation:  [ 0.02424359 -0.01765835 -0.04822065  0.04726392] info:  {}\n",
      "observation:  [ 0.03780799  0.03925642 -0.03454571  0.01129179] info:  {}\n",
      "observation:  [ 0.02082011  0.03053174 -0.01432544 -0.01713875] info:  {}\n"
     ]
    },
    {
     "ename": "",
     "evalue": "",
     "output_type": "error",
     "traceback": [
      "\u001b[1;31mThe Kernel crashed while executing code in the current cell or a previous cell. \n",
      "\u001b[1;31mPlease review the code in the cell(s) to identify a possible cause of the failure. \n",
      "\u001b[1;31mClick <a href='https://aka.ms/vscodeJupyterKernelCrash'>here</a> for more info. \n",
      "\u001b[1;31mView Jupyter <a href='command:jupyter.viewOutput'>log</a> for further details."
     ]
    }
   ],
   "source": [
    "import gymnasium as gym\n",
    "env = gym.make('CartPole-v1', render_mode = 'human')\n",
    "observation, info = env.reset() # reset to get first observation of env\n",
    "\n",
    "for _ in range(1000):\n",
    "    action = env.action_space.sample()\n",
    "    observation, reward, terminated, truncated, info = env.step(action)\n",
    "\n",
    "    if terminated or truncated:\n",
    "        observation, info = env.reset()\n",
    "        print('observation: ', observation, 'info: ', info)\n",
    "env.close()"
   ]
  }
 ],
 "metadata": {
  "kernelspec": {
   "display_name": "Python 3",
   "language": "python",
   "name": "python3"
  },
  "language_info": {
   "codemirror_mode": {
    "name": "ipython",
    "version": 3
   },
   "file_extension": ".py",
   "mimetype": "text/x-python",
   "name": "python",
   "nbconvert_exporter": "python",
   "pygments_lexer": "ipython3",
   "version": "3.9.6"
  }
 },
 "nbformat": 4,
 "nbformat_minor": 2
}
