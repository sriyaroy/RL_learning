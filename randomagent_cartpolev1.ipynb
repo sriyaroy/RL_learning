{
 "cells": [
  {
   "cell_type": "code",
   "execution_count": 1,
   "metadata": {},
   "outputs": [
    {
     "name": "stderr",
     "output_type": "stream",
     "text": [
      "2024-09-20 14:45:09.916 Python[8441:6327423] WARNING: Secure coding is automatically enabled for restorable state! However, not on all supported macOS versions of this application. Opt-in to secure coding explicitly by implementing NSApplicationDelegate.applicationSupportsSecureRestorableState:.\n"
     ]
    },
    {
     "name": "stdout",
     "output_type": "stream",
     "text": [
      "observation:  [ 0.01584895  0.02888517 -0.00243704  0.04807201] info:  {}\n",
      "observation:  [-0.02411651  0.0149159  -0.01882165  0.02596982] info:  {}\n",
      "observation:  [-0.02257922  0.03131201 -0.02133822  0.04892046] info:  {}\n",
      "observation:  [ 0.04150786 -0.04406035 -0.02279896 -0.04103959] info:  {}\n",
      "observation:  [-0.03817808 -0.00432093 -0.03917194  0.04923251] info:  {}\n",
      "observation:  [ 0.01871992  0.04670714 -0.00896466  0.00701973] info:  {}\n",
      "observation:  [-0.00433822 -0.02040893 -0.0494756  -0.01089318] info:  {}\n",
      "observation:  [-0.04162973 -0.01463096 -0.0433276  -0.03810928] info:  {}\n",
      "observation:  [-0.01698785  0.00241282 -0.04849409  0.01061243] info:  {}\n",
      "observation:  [ 0.00274068 -0.01823892  0.01190379  0.01584625] info:  {}\n",
      "observation:  [-0.01529826  0.02305061 -0.01015606  0.03262113] info:  {}\n",
      "observation:  [-0.02972022 -0.03276297 -0.03920784  0.02017459] info:  {}\n",
      "observation:  [ 0.00868854 -0.02945144  0.03308484  0.0309176 ] info:  {}\n",
      "observation:  [-0.01122399  0.04258988  0.03600997  0.01146472] info:  {}\n",
      "observation:  [-0.03198713 -0.02746768  0.04507553  0.04716319] info:  {}\n",
      "observation:  [ 0.00902338  0.04813575 -0.01728032 -0.04272145] info:  {}\n",
      "observation:  [ 0.00301075 -0.01814073 -0.02686544 -0.02473927] info:  {}\n",
      "observation:  [-0.03179663  0.01023705  0.04112644  0.03591195] info:  {}\n",
      "observation:  [-0.02696023 -0.00106462 -0.0155681   0.0022284 ] info:  {}\n",
      "observation:  [-0.03722677 -0.02727969  0.04027435  0.01177451] info:  {}\n",
      "observation:  [-0.01971895  0.00036431 -0.01570928  0.03787898] info:  {}\n",
      "observation:  [-0.02990979  0.00868063  0.03809593 -0.04339454] info:  {}\n",
      "observation:  [-0.04681971  0.04967031  0.04293816  0.00012846] info:  {}\n",
      "observation:  [ 0.04307253 -0.04068539 -0.02709839  0.00875786] info:  {}\n",
      "observation:  [-0.00674164  0.01527779  0.02666805  0.04624724] info:  {}\n",
      "observation:  [-0.01738278 -0.03700716  0.01597604 -0.04660343] info:  {}\n",
      "observation:  [-0.02103093 -0.04841331  0.02272713 -0.04746534] info:  {}\n",
      "observation:  [ 0.01405576 -0.04851239 -0.00048615 -0.00896763] info:  {}\n",
      "observation:  [-0.0153342   0.02516719  0.03890827  0.00363479] info:  {}\n",
      "observation:  [ 0.02342986  0.01608544  0.00968924 -0.01790255] info:  {}\n",
      "observation:  [ 0.02850564 -0.02158415  0.02875076 -0.00774411] info:  {}\n",
      "observation:  [-0.03713822 -0.02032329  0.00267112 -0.024097  ] info:  {}\n",
      "observation:  [-0.03830495  0.02681866  0.01950921  0.00434116] info:  {}\n",
      "observation:  [-0.01029725  0.01789681  0.04644037  0.03777198] info:  {}\n",
      "observation:  [ 0.02010836  0.01870958  0.04248912 -0.04732566] info:  {}\n",
      "observation:  [ 0.03183285 -0.01107111 -0.00759482  0.00354247] info:  {}\n",
      "observation:  [ 0.04530059  0.0422756   0.01855564 -0.03016553] info:  {}\n",
      "observation:  [-0.02334916 -0.03443208  0.04787715 -0.00958115] info:  {}\n",
      "observation:  [-0.03862512 -0.03087308  0.04525356 -0.02890517] info:  {}\n",
      "observation:  [ 0.00793735 -0.04573082  0.02050574 -0.02311143] info:  {}\n",
      "observation:  [-0.0360932   0.04314982  0.03958474 -0.04013163] info:  {}\n",
      "observation:  [ 0.04303104 -0.0156207  -0.04459122  0.01816812] info:  {}\n",
      "observation:  [-0.02737416  0.04382331  0.03122893 -0.00842095] info:  {}\n",
      "observation:  [0.01560687 0.04281722 0.02483852 0.00208057] info:  {}\n",
      "observation:  [-0.03773902  0.02743289  0.03237078 -0.02279872] info:  {}\n",
      "observation:  [ 0.01562619 -0.01872715  0.03805671  0.02543789] info:  {}\n",
      "observation:  [ 0.01589169 -0.03043093 -0.01119925 -0.00175199] info:  {}\n",
      "observation:  [-0.03956425 -0.00448038 -0.04365191 -0.0458388 ] info:  {}\n",
      "observation:  [-0.02358942 -0.03678448  0.04276068 -0.02904201] info:  {}\n",
      "observation:  [-0.00664658  0.04866258  0.0024618  -0.04624148] info:  {}\n",
      "observation:  [0.00254061 0.02723228 0.00188489 0.00401418] info:  {}\n",
      "observation:  [ 0.01075086 -0.03725948 -0.01309372 -0.03559844] info:  {}\n"
     ]
    },
    {
     "ename": "",
     "evalue": "",
     "output_type": "error",
     "traceback": [
      "\u001b[1;31mThe Kernel crashed while executing code in the current cell or a previous cell. \n",
      "\u001b[1;31mPlease review the code in the cell(s) to identify a possible cause of the failure. \n",
      "\u001b[1;31mClick <a href='https://aka.ms/vscodeJupyterKernelCrash'>here</a> for more info. \n",
      "\u001b[1;31mView Jupyter <a href='command:jupyter.viewOutput'>log</a> for further details."
     ]
    }
   ],
   "source": [
    "import gymnasium as gym\n",
    "env = gym.make('CartPole-v1', render_mode = 'human')\n",
    "observation, info = env.reset() # reset to get first observation of env\n",
    "\n",
    "for _ in range(1000):\n",
    "    action = env.action_space.sample()\n",
    "    observation, reward, terminated, truncated, info = env.step(action)\n",
    "\n",
    "    if terminated or truncated:\n",
    "        observation, info = env.reset()\n",
    "        print('observation: ', observation, 'info: ', info)\n",
    "env.close()"
   ]
  }
 ],
 "metadata": {
  "kernelspec": {
   "display_name": "Python 3",
   "language": "python",
   "name": "python3"
  },
  "language_info": {
   "codemirror_mode": {
    "name": "ipython",
    "version": 3
   },
   "file_extension": ".py",
   "mimetype": "text/x-python",
   "name": "python",
   "nbconvert_exporter": "python",
   "pygments_lexer": "ipython3",
   "version": "3.9.6"
  }
 },
 "nbformat": 4,
 "nbformat_minor": 2
}
